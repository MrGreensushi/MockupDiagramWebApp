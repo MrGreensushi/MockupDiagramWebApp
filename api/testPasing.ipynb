{
 "cells": [
  {
   "cell_type": "code",
   "execution_count": 1,
   "metadata": {},
   "outputs": [],
   "source": [
    "import xml.etree.ElementTree as ET\n",
    "import os"
   ]
  },
  {
   "cell_type": "code",
   "execution_count": 22,
   "metadata": {},
   "outputs": [],
   "source": [
    "\n",
    "# Function to parse the XML file\n",
    "def parse_node_xml(file_path):\n",
    "# Parse the XML file\n",
    "    tree = ET.parse(file_path)\n",
    "    root = tree.getroot()\n",
    "\n",
    "    file_name = os.path.splitext(os.path.basename(file_path))[0]\n",
    "    # Dictionary to hold parsed content\n",
    "    parsed_data = {'Name':file_name}\n",
    "\n",
    "    # Iterate over language nodes\n",
    "    for language in root.findall('language'):\n",
    "        lang_code = language.get('value')\n",
    "        parsed_data[lang_code] = {\n",
    "            'descriptions': {},\n",
    "            'nodePhrases': {}\n",
    "        }\n",
    "\n",
    "        # Extract descriptions by level (Novice, Intermediate, Expert)\n",
    "        for description in language.findall('description'):\n",
    "            level = description.get('level')\n",
    "            text = description.text.strip() if description.text else \"No description available\"\n",
    "            parsed_data[lang_code]['descriptions'][level] = text\n",
    "\n",
    "        # Extract node phrases by level (Novice, Intermediate, Expert)\n",
    "        for nodePhrase in language.findall('nodePhrase'):\n",
    "            level = nodePhrase.get('level')\n",
    "            clipId = nodePhrase.get('clipId')\n",
    "            text = nodePhrase.text.strip() if nodePhrase.text else \"No node phrase available\"\n",
    "            \n",
    "            if level not in parsed_data[lang_code]['nodePhrases']:\n",
    "                parsed_data[lang_code]['nodePhrases'][level] = {}\n",
    "\n",
    "            parsed_data[lang_code]['nodePhrases'][level][clipId] = text\n",
    "\n",
    "    return parsed_data\n",
    "\n",
    "\n",
    "def printParsedXml(parsed_content):\n",
    "    for language, content in parsed_content.items():\n",
    "        if(language==\"Name\"):\n",
    "            print(f\"{content}\\n\")\n",
    "            continue\n",
    "\n",
    "        print(f\"Language: {language}\")\n",
    "\n",
    "        print(\"Descriptions:\")\n",
    "        for level, description in content['descriptions'].items():\n",
    "            print(f\"  {level}: {description}\")\n",
    "    \n",
    "        print(\"\\nNode Phrases:\")\n",
    "        for level, phrases in content['nodePhrases'].items():\n",
    "            print(f\"  {level}:\")\n",
    "            for clipId, phrase in phrases.items():\n",
    "                print(f\"    {clipId}: {phrase}\")\n",
    "    \n",
    "        print(\"\\n\")"
   ]
  },
  {
   "cell_type": "code",
   "execution_count": 23,
   "metadata": {},
   "outputs": [
    {
     "name": "stdout",
     "output_type": "stream",
     "text": [
      "DefibrillatorInit\n",
      "\n",
      "Language: ITA\n",
      "Descriptions:\n",
      "  Novice: Posiziona le placche adesive come indicato sul torace del paziente e collegale al defibrillatore tramite lo spinotto.\n",
      "  Intermediate: Applica le placche e attacca lo spinotto.\n",
      "  Expert: Applica le placche e attacca lo spinotto.\n",
      "\n",
      "Node Phrases:\n",
      "  Novice:\n",
      "    DefibrillatorInitPaddlePlaced: piastra in posizione\n",
      "    DefibrillatorInitPaddlesPlaced: Tutte le piastre sono correttamente posizionate.\n",
      "    DefibrillatorInitPlugConnected: spinotto inserito\n",
      "    DefibrillatorInitUserInfoPaddles: posizionato le piastre sul petto\n",
      "    DefibrillatorInitUserInfoPlug: inserito lo spinotto\n",
      "    DefibrillatorInitUserInfoStart: Non hai ancora\n",
      "\n",
      "\n",
      "Language: ENG\n",
      "Descriptions:\n",
      "  Novice: Place the adhesive pads as indicated on the patient's chest and connect them to the defibrillator via the plug.\n",
      "  Intermediate: Attach the pads and plug in the connector.\n",
      "  Expert: Attach the pads and plug in the connector.\n",
      "\n",
      "Node Phrases:\n",
      "  Novice:\n",
      "    DefibrillatorInitPaddlePlaced: paddle in place\n",
      "    DefibrillatorInitPaddlesPlaced: All paddles correctly place.\n",
      "    DefibrillatorInitPlugConnected: connector plugged\n",
      "    DefibrillatorInitUserInfoPaddles: position both paddles on the chest\n",
      "    DefibrillatorInitUserInfoPlug: connected the plug\n",
      "    DefibrillatorInitUserInfoStart: You still did not\n",
      "\n",
      "\n"
     ]
    }
   ],
   "source": [
    "# Path to the XML file\n",
    "file_path = r\"..\\public\\xmls\\Educational-Contents\\BLSDPro\\DefibrillatorInit.xml\"\n",
    "\n",
    "# Call the function and print parsed data\n",
    "parsed_content = parse_node_xml(file_path)\n",
    "# Output the parsed descriptions and node phrases\n",
    "printParsedXml(parsed_content)"
   ]
  },
  {
   "cell_type": "code",
   "execution_count": 18,
   "metadata": {},
   "outputs": [
    {
     "name": "stdout",
     "output_type": "stream",
     "text": [
      "key: Name    value: DefibrillatorInit.xml\n",
      "\n",
      "key: ITA    value: {'descriptions': {'Novice': 'Posiziona le placche adesive come indicato sul torace del paziente e collegale al defibrillatore tramite lo spinotto.', 'Intermediate': 'Applica le placche e attacca lo spinotto.', 'Expert': 'Applica le placche e attacca lo spinotto.'}, 'nodePhrases': {'Novice': {'DefibrillatorInitPaddlePlaced': 'piastra in posizione', 'DefibrillatorInitPaddlesPlaced': 'Tutte le piastre sono correttamente posizionate.', 'DefibrillatorInitPlugConnected': 'spinotto inserito', 'DefibrillatorInitUserInfoPaddles': 'posizionato le piastre sul petto', 'DefibrillatorInitUserInfoPlug': 'inserito lo spinotto', 'DefibrillatorInitUserInfoStart': 'Non hai ancora'}}}\n",
      "\n",
      "key: ENG    value: {'descriptions': {'Novice': \"Place the adhesive pads as indicated on the patient's chest and connect them to the defibrillator via the plug.\", 'Intermediate': 'Attach the pads and plug in the connector.', 'Expert': 'Attach the pads and plug in the connector.'}, 'nodePhrases': {'Novice': {'DefibrillatorInitPaddlePlaced': 'paddle in place', 'DefibrillatorInitPaddlesPlaced': 'All paddles correctly place.', 'DefibrillatorInitPlugConnected': 'connector plugged', 'DefibrillatorInitUserInfoPaddles': 'position both paddles on the chest', 'DefibrillatorInitUserInfoPlug': 'connected the plug', 'DefibrillatorInitUserInfoStart': 'You still did not'}}}\n",
      "\n"
     ]
    }
   ],
   "source": [
    "x=parsed_content.items()\n",
    "\n",
    "for key,value in x:\n",
    "    print(f\"key: {key}    value: {value}\\n\")"
   ]
  },
  {
   "cell_type": "code",
   "execution_count": 15,
   "metadata": {},
   "outputs": [
    {
     "name": "stdout",
     "output_type": "stream",
     "text": [
      "{'Name': 'DefibrillatorInit.xml', 'ITA': {'descriptions': {'Novice': 'Posiziona le placche adesive come indicato sul torace del paziente e collegale al defibrillatore tramite lo spinotto.', 'Intermediate': 'Applica le placche e attacca lo spinotto.', 'Expert': 'Applica le placche e attacca lo spinotto.'}, 'nodePhrases': {'Novice': {'DefibrillatorInitPaddlePlaced': 'piastra in posizione', 'DefibrillatorInitPaddlesPlaced': 'Tutte le piastre sono correttamente posizionate.', 'DefibrillatorInitPlugConnected': 'spinotto inserito', 'DefibrillatorInitUserInfoPaddles': 'posizionato le piastre sul petto', 'DefibrillatorInitUserInfoPlug': 'inserito lo spinotto', 'DefibrillatorInitUserInfoStart': 'Non hai ancora'}}}, 'ENG': {'descriptions': {'Novice': \"Place the adhesive pads as indicated on the patient's chest and connect them to the defibrillator via the plug.\", 'Intermediate': 'Attach the pads and plug in the connector.', 'Expert': 'Attach the pads and plug in the connector.'}, 'nodePhrases': {'Novice': {'DefibrillatorInitPaddlePlaced': 'paddle in place', 'DefibrillatorInitPaddlesPlaced': 'All paddles correctly place.', 'DefibrillatorInitPlugConnected': 'connector plugged', 'DefibrillatorInitUserInfoPaddles': 'position both paddles on the chest', 'DefibrillatorInitUserInfoPlug': 'connected the plug', 'DefibrillatorInitUserInfoStart': 'You still did not'}}}}\n"
     ]
    }
   ],
   "source": [
    "print(parsed_content)"
   ]
  },
  {
   "cell_type": "markdown",
   "metadata": {},
   "source": [
    "## Test parsing .procedure file"
   ]
  },
  {
   "cell_type": "code",
   "execution_count": 3,
   "metadata": {},
   "outputs": [],
   "source": [
    "import os\n",
    "import json\n",
    "from xml.etree.ElementTree import Element, SubElement, tostring\n",
    "from xml.dom.minidom import parseString\n",
    "from io import BytesIO\n",
    "import zipfile"
   ]
  },
  {
   "cell_type": "code",
   "execution_count": 10,
   "metadata": {},
   "outputs": [],
   "source": [
    "# Funzione per creare l'XML\n",
    "def create_activity_xml(activity):\n",
    "    root = Element('node')\n",
    "    # Lingua italiana\n",
    "    language_xml(root,activity.ita,'ITA')\n",
    "    language_xml(root,activity.eng,'ENG')\n",
    "\n",
    "    # Convertire l'albero XML in una stringa formattata\n",
    "    xml_str = parseString(tostring(root, encoding=\"unicode\")).toprettyxml(indent=\"   \").replace(\"&quot;\",\"\\\"\")\n",
    "\n",
    "    return xml_str\n",
    "\n",
    "def language_xml(root,activityLang,lang):\n",
    "    # Lingua italiana\n",
    "    ita = SubElement(root, 'language', value=lang)\n",
    "    for phrase in activityLang.node_phrases:\n",
    "        if phrase['clipId'] == 'Description':\n",
    "            desc = SubElement(ita, 'description', level=phrase['level'])\n",
    "            desc.text = phrase.get('text', phrase['level'])\n",
    "        else:\n",
    "            node_phrase = SubElement(ita, 'nodePhrase', clipId=phrase['clipId'], level=phrase['level'])\n",
    "            node_phrase.text = phrase.get('text', phrase['clipId'])\n",
    "    details=SubElement(ita,'details',level='Novice')\n",
    "    details.text=activityLang.details\n",
    "\n",
    "def retrieveAllActivitiesFromProcedure(data):\n",
    "    activities = []\n",
    "\n",
    "    for node in data.get('flow', {}).get('nodes', []):\n",
    "        #retrieve the single activity\n",
    "        activity = node.get('data', {}).get('activity', None)\n",
    "        if not activity: \n",
    "            continue\n",
    "        \n",
    "        #activity contains aslo subProcedure but we are interested only in the name e phrases\n",
    "        slimActivity= Activity(activity.get('name',\"\"), activity.get('languages',{}))\n",
    "        activities.append(slimActivity)\n",
    "\n",
    "        #Retrieve all the activities present in the subProcedure\n",
    "        # subProcedure=activity.get('subProcedure',None)\n",
    "        # if not subProcedure:\n",
    "        #     continue\n",
    "\n",
    "        # subProcedureActivities=retrieveAllActivities(subProcedure)\n",
    "        # if not subProcedureActivities:\n",
    "        #     continue\n",
    "        # #append each sub-activities\n",
    "        # for subProcedureActivity in subProcedureActivities:\n",
    "        #     activities.append(subProcedureActivity)\n",
    "\n",
    "    return activities\n",
    "\n",
    "def retrieveAllActivities(data):\n",
    "    activities=[]\n",
    "    for item in data:\n",
    "        if \"flow\" in item and \"nodes\" in item[\"flow\"]:\n",
    "            activities.extend(retrieveAllActivitiesFromProcedure(item))\n",
    "    return activities\n",
    "\n",
    "class Activity:\n",
    "    def __init__(self, name, languages):\n",
    "        self.name = name  \n",
    "        itaLang=languages.get('itaActivity',None)\n",
    "        itaPhrase=itaLang.get('nodePhrases',[])\n",
    "        itaDetails=itaLang.get('details',\"\")\n",
    "        self.ita = LanguageActivity(itaPhrase,itaDetails)\n",
    "        engLang=languages.get('engActivity',None)\n",
    "        engPhrase=engLang.get('nodePhrases',[])\n",
    "        engDetails=engLang.get('details',\"\")\n",
    "        self.eng = LanguageActivity(engPhrase,engDetails)\n",
    "    \n",
    "    def printSinglePhrase(self,phrase):\n",
    "        return f\"{phrase['clipId']} {phrase['level']}: {phrase['text']}\"\n",
    "\n",
    "    def __str__(self):\n",
    "        phrases=\"\"\n",
    "        for phrase in self.node_phrases:\n",
    "            phrases +=\"  \"+ self.printSinglePhrase(phrase)+\"\\n\"\n",
    "\n",
    "        return f\"Start\\n {self.name}\\n NodePhrases:\\n{phrases}END\"  # Correct: Returning a string\n",
    "\n",
    "class LanguageActivity:\n",
    "    def __init__(self,node_phrases,details):\n",
    "        self.details = details  \n",
    "        self.node_phrases = node_phrases\n",
    "\n",
    "\n",
    "def zipAllActivitiesXmls(data):\n",
    "    activities=retrieveAllActivities(data)\n",
    "    xmls=[]\n",
    "    for activity in activities:\n",
    "        xml_content=create_activity_xml(activity)\n",
    "        #writeXMLFile(output_dir,xml_content,activity.name)\n",
    "        xmls.append((f\"{activity.name}.xml\", xml_content))\n",
    "    # Preparare un archivio ZIP contenente tutti i file XML\n",
    "        print(xml_content)\n",
    "    zip_buffer = BytesIO()\n",
    "\n",
    "    with zipfile.ZipFile(zip_buffer, 'w', zipfile.ZIP_DEFLATED) as zip_file:\n",
    "        zip_file.writestr(f\"{data[0].get('title','no-title')}.procedure\", json.dumps(data, ensure_ascii=False))\n",
    "        for filename, xml_content  in xmls:\n",
    "            zip_file.writestr(filename, xml_content )\n",
    "    zip_buffer.seek(0)\n",
    "    return zip_buffer"
   ]
  },
  {
   "cell_type": "code",
   "execution_count": 11,
   "metadata": {},
   "outputs": [
    {
     "name": "stdout",
     "output_type": "stream",
     "text": [
      "<?xml version=\"1.0\" ?>\n",
      "<node>\n",
      "   <language value=\"ITA\">\n",
      "      <description level=\"Expert\">Posiziona la maschera.</description>\n",
      "      <description level=\"Intermediate\">Posiziona la maschera.</description>\n",
      "      <description level=\"Novice\">Sul pavimento troverai una maschera, afferrala e posizionala correttamente sulla bocca del paziente.</description>\n",
      "      <nodePhrase clipId=\"ApplyBreathMaskUserInfoMaskNotPositioned\" level=\"Novice\">Hai afferrato la maschera ma non l'hai posizionata nel punto giusto. Sulla bocca del paziente trovi un riferimento.</nodePhrase>\n",
      "      <nodePhrase clipId=\"ApplyBreathMaskUserInfoNoMaskGrabbed\" level=\"Novice\">Non hai ancora afferrato la maschera. Usa una mano per afferrarla e posizionala sulla bocca del paziente.</nodePhrase>\n",
      "      <details level=\"Novice\"/>\n",
      "   </language>\n",
      "   <language value=\"ENG\">\n",
      "      <description level=\"Expert\">Position the mask.</description>\n",
      "      <description level=\"Intermediate\">Position the mask.</description>\n",
      "      <description level=\"Novice\">On the floor you will find a mask, grab it and position it correctly on the patient's mouth.</description>\n",
      "      <nodePhrase clipId=\"ApplyBreathMaskUserInfoMaskNotPositioned\" level=\"Novice\">You grabbed the mask but you did not position it in the correct place. You can see a reference on the patient's mouth</nodePhrase>\n",
      "      <nodePhrase clipId=\"ApplyBreathMaskUserInfoNoMaskGrabbed\" level=\"Novice\">You did not yet grab the mask. User your hand and position it on the patient's mouth.</nodePhrase>\n",
      "      <details level=\"Novice\"/>\n",
      "   </language>\n",
      "</node>\n",
      "\n",
      "<?xml version=\"1.0\" ?>\n",
      "<node>\n",
      "   <language value=\"ITA\">\n",
      "      <description level=\"Expert\">Prendi un defibrillatore. Se non sei solo, chiedi a qualcuno di procurarti un defibrillatore. Non muoverti dalla scena. Unico passaggio con \"call emergency\"</description>\n",
      "      <description level=\"Intermediate\">Prendi un defibrillatore. Se non sei solo, chiedi a qualcuno di procurarti un defibrillatore. Non muoverti dalla scena. Unico passaggio con \"call emergency\"</description>\n",
      "      <description level=\"Novice\">Prendi un defibrillatore. Se non sei solo, chiedi a qualcuno di procurarti un defibrillatore. Non muoverti dalla scena.</description>\n",
      "      <nodePhrase clipId=\"AskDefibrillatorUserInfo1\" level=\"Novice\">Guarda intorno a te. C'è qualcuno nella stanza che può portarti il defibrillatore</nodePhrase>\n",
      "      <nodePhrase clipId=\"AskDefibrillatorUserInfo2\" level=\"Novice\">Non hai ancora chiesto un defibrillatore. Guarda meglio intorno a te. C'è qualcuno nella stanza che può aiutarti</nodePhrase>\n",
      "      <nodePhrase clipId=\"AskDefibrillatorUserInfo3\" level=\"Novice\">C'è una persona nella stanza {FRONTBACK=\"FRONT\":\"di fronte a te\";\"BACK\":\"dietro di te\"} e sulla tua {LEFTRIGHT=\"LEFT\":\"sinistra\";\"RIGHT\":\"destra\"}. Chiedigli di portare un defibrillatore</nodePhrase>\n",
      "      <details level=\"Novice\"/>\n",
      "   </language>\n",
      "   <language value=\"ENG\">\n",
      "      <description level=\"Expert\">Get a defibrillator. If you're not alone, ask anyone to get you a defibrillator. Don't move from the scene.</description>\n",
      "      <description level=\"Intermediate\">Get a defibrillator. If you're not alone, ask anyone to get you a defibrillator. Don't move from the scene.</description>\n",
      "      <description level=\"Novice\">Get a defibrillator. If you're not alone, ask anyone to get you a defibrillator. Don't move from the scene.</description>\n",
      "      <nodePhrase clipId=\"AskDefibrillatorUserInfo1\" level=\"Novice\">Look all around you. There is somebody in the room that can bring the defibrillator for you</nodePhrase>\n",
      "      <nodePhrase clipId=\"AskDefibrillatorUserInfo2\" level=\"Novice\">You still did not ask for a defibrillator. Look better around you. There is somebody in the room that can help you</nodePhrase>\n",
      "      <nodePhrase clipId=\"AskDefibrillatorUserInfo3\" level=\"Novice\">There is a person in the room {FRONTBACK=\"FRONT\":\"in front of you\";\"BACK\":\"on your back\"} and on your {LEFTRIGHT=\"LEFT\":\"left\";\"RIGHT\":\"right\"}. Please ask her to bring a defibrillator</nodePhrase>\n",
      "      <details level=\"Novice\"/>\n",
      "   </language>\n",
      "</node>\n",
      "\n",
      "<?xml version=\"1.0\" ?>\n",
      "<node>\n",
      "   <language value=\"ITA\">\n",
      "      <description level=\"Expert\">Chiama il numero di emergenza. Componi il numero di emergenza e chiedi aiuto professionale.</description>\n",
      "      <description level=\"Intermediate\">Chiama il numero di emergenza. Componi il numero di emergenza e chiedi aiuto professionale.</description>\n",
      "      <description level=\"Novice\">Chiama il numero di emergenza. Componi il numero di emergenza e chiedi aiuto professionale.</description>\n",
      "      <nodePhrase clipId=\"CallEmergencyUserInfo\" level=\"Novice\">Non hai ancora chiamato il numero di emergenza. Premi il bottone presente sulla torretta di emergenza.</nodePhrase>\n",
      "      <details level=\"Novice\"/>\n",
      "   </language>\n",
      "   <language value=\"ENG\">\n",
      "      <description level=\"Expert\"/>\n",
      "      <description level=\"Intermediate\">Call emergency number. Dial emergency number and ask for professional help.</description>\n",
      "      <description level=\"Novice\">Call emergency number. Dial emergency number and ask for professional help.</description>\n",
      "      <nodePhrase clipId=\"CallEmergencyUserInfo\" level=\"Novice\">You did not call emergency. You must push the button on the tower</nodePhrase>\n",
      "      <details level=\"Novice\"/>\n",
      "   </language>\n",
      "</node>\n",
      "\n"
     ]
    }
   ],
   "source": [
    "# Percorso del file\n",
    "input_file=r\"D:\\Downloads\\TEST(2).procedure\"\n",
    "output_dir =r\"D:\\Downloads\\generatedXML\"\n",
    "\n",
    "def extract_XML_from_procedure(data):\n",
    "    zip_folder=zipAllActivitiesXmls(data)\n",
    "\n",
    "with open(input_file, 'r', encoding='utf-8') as file:\n",
    "    data = json.load(file)\n",
    "    extract_XML_from_procedure(data)"
   ]
  },
  {
   "cell_type": "code",
   "execution_count": 14,
   "metadata": {},
   "outputs": [
    {
     "name": "stdout",
     "output_type": "stream",
     "text": [
      "{'AskDefibrillator', '<?xml version=\"1.0\" ?>\\n<node>\\n   <language value=\"ITA\">\\n      <description level=\"Expert\">Prendi un defibrillatore. Se non sei solo, chiedi a qualcuno di procurarti un defibrillatore. Non muoverti dalla scena. Unico passaggio con \"call emergency\"</description>\\n      <description level=\"Intermediate\">Prendi un defibrillatore. Se non sei solo, chiedi a qualcuno di procurarti un defibrillatore. Non muoverti dalla scena. Unico passaggio con \"call emergency\"</description>\\n      <description level=\"Novice\">Prendi un defibrillatore. Se non sei solo, chiedi a qualcuno di procurarti un defibrillatore. Non muoverti dalla scena.</description>\\n      <nodePhrase clipId=\"AskDefibrillatorUserInfo1\" level=\"Novice\">Guarda intorno a te. C\\'è qualcuno nella stanza che può portarti il defibrillatore</nodePhrase>\\n      <nodePhrase clipId=\"AskDefibrillatorUserInfo2\" level=\"Novice\">Non hai ancora chiesto un defibrillatore. Guarda meglio intorno a te. C\\'è qualcuno nella stanza che può aiutarti</nodePhrase>\\n      <nodePhrase clipId=\"AskDefibrillatorUserInfo3\" level=\"Novice\">C\\'è una persona nella stanza {FRONTBACK=\"FRONT\":\"di fronte a te\";\"BACK\":\"dietro di te\"} e sulla tua {LEFTRIGHT=\"LEFT\":\"sinistra\";\"RIGHT\":\"destra\"}. Chiedigli di portare un defibrillatore</nodePhrase>\\n   </language>\\n</node>\\n'}\n"
     ]
    }
   ],
   "source": [
    "# for activity in activities:\n",
    "#     xml_content = create_activity_xml(activity.node_phrases)\n",
    "#     print(xml_content)\n",
    "activity=activities[0]\n",
    "xml_content = {activity.name,create_activity_xml(activity.node_phrases)}\n",
    "print(xml_content)\n",
    "# writeXMLFile(output_dir,xml_content,activity.name)"
   ]
  },
  {
   "cell_type": "code",
   "execution_count": 16,
   "metadata": {},
   "outputs": [
    {
     "data": {
      "text/plain": [
       "0"
      ]
     },
     "execution_count": 16,
     "metadata": {},
     "output_type": "execute_result"
    }
   ],
   "source": [
    "xmls=[xml_content]\n",
    "# Preparare un archivio ZIP contenente tutti i file XML\n",
    "zip_buffer = BytesIO()\n",
    "with zipfile.ZipFile(zip_buffer, 'w') as zip_file:\n",
    "    for filename, xml_file in xmls:\n",
    "        zip_file.writestr(filename, xml_file)\n",
    "zip_buffer.seek(0)"
   ]
  },
  {
   "cell_type": "code",
   "execution_count": null,
   "metadata": {},
   "outputs": [
    {
     "name": "stdout",
     "output_type": "stream",
     "text": [
      "[{'id': 'c5fd3fdb-3260-4fdb-8d62-e1691e73d179', 'flow': {'nodes': [{'id': '5b3dc55e-46dc-4a7b-882c-197f3f68d537', 'position': {'x': 327.23333997954194, 'y': 21.731824391005716}, 'data': {'activity': {'name': 'Start', 'content': {'nodePhrases': [{'clipId': 'Description', 'level': 'Novice', 'text': ''}, {'clipId': 'Description', 'level': 'Intermediate', 'text': ''}, {'clipId': 'Description', 'level': 'Expert', 'text': ''}], 'details': '', 'notes': ''}, 'subProcedureId': 'cf96c311-b1da-4360-b0b5-f716c455ea4a'}}, 'type': 'activityNode', 'measured': {'width': 74, 'height': 45}, 'selected': False, 'dragging': False}, {'id': 'c26ca439-915d-4b6d-bb65-38ae8ba93bbe', 'position': {'x': 236.26523011601046, 'y': 115.08375687874013}, 'data': {'activity': {'name': 'CheckAvailableMedicalDevices', 'content': {'nodePhrases': [{'clipId': 'Description', 'level': 'Novice', 'text': 'Per iniziare, controllare la disponibilità delle seguenti attrezzature: (1) maschera facciale per la ventilazione nella dimensione corretta;(2) borsa Ambu con serbatoio;(3) connettore di ossigeno;(4) cannula rinofaringea o orofaringea nelle dimensioni corrette;(5) dispositivo di aspirazione;(6) Metro di flusso montato a parete per ossigeno con una \"cannula nasale\", se è presente un acquapak, rimuoverlo.Una volta completato, posizionati sulla testa del paziente.'}, {'clipId': 'Description', 'level': 'Intermediate', 'text': ''}, {'clipId': 'Description', 'level': 'Expert', 'text': ''}], 'details': 'Si potrebbe inserire una diapositiva con i vari elementi citati', 'notes': ''}, 'subProcedureId': 'b080097d-3a7b-4e34-83fa-cfc03259c6d0', 'isEngActiveLanguage': True, 'isSubProcedureEmpty': True}}, 'type': 'activityNode', 'measured': {'width': 256, 'height': 45}, 'selected': False, 'dragging': False}, {'id': 'e457b2e3-2aba-4636-8265-fb72399cdfdd', 'position': {'x': 281.0687498075006, 'y': 211.71902931904577}, 'data': {'activity': {'name': 'OpenMouth', 'content': {'nodePhrases': [{'clipId': 'Description', 'level': 'Novice', 'text': 'Apri la bocca del paziente posizionando le mani come indicato dalle mani virtuali.'}, {'clipId': 'Description', 'level': 'Intermediate', 'text': ''}, {'clipId': 'Description', 'level': 'Expert', 'text': ''}, {'clipId': 'OpenMouthUserInfo', 'level': 'Novice', 'text': 'Apri la bocca del paziente'}], 'details': '', 'notes': ''}, 'subProcedureId': '8f5e9174-644d-4f6c-bee3-e2fc434a63ef', 'isEngActiveLanguage': True, 'isSubProcedureEmpty': True}}, 'type': 'activityNode', 'measured': {'width': 127, 'height': 45}, 'selected': False, 'dragging': False}, {'id': '5af5f138-4c9c-4d09-b3ce-cfb167043370', 'position': {'x': 233.84353461616195, 'y': 307.2257493326166}, 'data': {'activity': {'name': 'OropharyngealAirwayPlacement', 'content': {'nodePhrases': [{'clipId': 'Description', 'level': 'Novice', 'text': 'Scegli la dimensione corretta della cannula orofaringea e inseriscila nella cavità orale.'}, {'clipId': 'Description', 'level': 'Intermediate', 'text': ''}, {'clipId': 'Description', 'level': 'Expert', 'text': ''}, {'clipId': 'OropharyngealAirwayPlacementUserInfoTwist', 'level': 'Novice', 'text': 'Trasforma la cannula nella gola.'}, {'clipId': 'OropharyngealAirwayPlacementUserInfoPlacement', 'level': 'Novice', 'text': 'Scegli la dimensione corretta della cannula orofaringea e inseriscila nella cavità orale.'}], 'details': '', 'notes': ''}, 'subProcedureId': 'bf698700-ac29-43c9-8afd-3b88ca0f4fd3', 'isEngActiveLanguage': True, 'isSubProcedureEmpty': True}}, 'type': 'activityNode', 'measured': {'width': 268, 'height': 45}, 'selected': False, 'dragging': False}, {'id': '582aed3b-ac05-44a8-b187-de9e3c3c0f9a', 'position': {'x': 305.72560143182955, 'y': 414.5814392836634}, 'data': {'activity': {'name': 'ApplyBagValveMask', 'content': {'nodePhrases': [{'clipId': 'Description', 'level': 'Novice', 'text': 'Applicare la maschera alla bocca del paziente.'}, {'clipId': 'Description', 'level': 'Intermediate', 'text': 'Applicare la maschera alla bocca del paziente.'}, {'clipId': 'Description', 'level': 'Expert', 'text': 'Applicare la maschera alla bocca del paziente.'}, {'clipId': 'ApplyBagValveMaskUserInfo', 'level': 'Novice', 'text': 'Applicare la maschera alla bocca del paziente.'}], 'details': '', 'notes': ''}, 'subProcedureId': '5078e25f-ad8d-4ffe-831c-2048404643d7', 'isEngActiveLanguage': True, 'isSubProcedureEmpty': True}}, 'type': 'activityNode', 'measured': {'width': 183, 'height': 45}, 'selected': False, 'dragging': False}, {'id': 'c2bbbf4d-b330-45f4-9d58-17a53762b120', 'position': {'x': 204.26280845756486, 'y': 518.0581085345291}, 'data': {'activity': {'name': 'DeliverBreathBagValveCPRandNoCPR', 'content': {'nodePhrases': [{'clipId': 'Description', 'level': 'Novice', 'text': 'Proverai entrambi i possibili scenari di gestione delle vie aeree.'}, {'clipId': 'Description', 'level': 'Intermediate', 'text': ''}, {'clipId': 'Description', 'level': 'Expert', 'text': ''}, {'clipId': 'OropharyngealAirwayPlacementUserInfoPlacement', 'level': 'Novice', 'text': 'Scegli la dimensione corretta della cannula orofaringea e inseriscila nella cavità orale.'}, {'clipId': 'OropharyngealAirwayPlacementUserInfoTwist', 'level': 'Novice', 'text': 'Trasforma la cannula nella gola.'}], 'details': '', 'notes': ''}, 'subProcedureId': 'a4d00bf0-0796-4217-a937-ea73d544057d', 'isEngActiveLanguage': True, 'isSubProcedureEmpty': False}}, 'type': 'activityNode', 'measured': {'width': 304, 'height': 45}, 'selected': False, 'dragging': False}, {'id': '3ed07efe-01c5-4784-8c70-05b979678218', 'position': {'x': 336.9184787638428, 'y': 615.886455576497}, 'data': {'activity': {'name': 'End', 'content': {'nodePhrases': [{'clipId': 'Description', 'level': 'Novice', 'text': ''}, {'clipId': 'Description', 'level': 'Intermediate', 'text': ''}, {'clipId': 'Description', 'level': 'Expert', 'text': ''}], 'details': '', 'notes': ''}, 'subProcedureId': 'add5f8c0-cb95-40ea-92c1-c64b0e936ca4', 'isEngActiveLanguage': True, 'isSubProcedureEmpty': True}}, 'type': 'activityNode', 'measured': {'width': 68, 'height': 45}, 'selected': False, 'dragging': False}], 'edges': [{'source': '5b3dc55e-46dc-4a7b-882c-197f3f68d537', 'target': 'c26ca439-915d-4b6d-bb65-38ae8ba93bbe', 'markerEnd': {'type': 'arrowclosed'}, 'data': {'sourceNodeType': 'activityNode'}, 'type': 'customEdge', 'id': 'xy-edge__5b3dc55e-46dc-4a7b-882c-197f3f68d537-c26ca439-915d-4b6d-bb65-38ae8ba93bbe'}, {'source': 'c26ca439-915d-4b6d-bb65-38ae8ba93bbe', 'target': 'e457b2e3-2aba-4636-8265-fb72399cdfdd', 'markerEnd': {'type': 'arrowclosed'}, 'data': {'sourceNodeType': 'activityNode'}, 'type': 'customEdge', 'id': 'xy-edge__c26ca439-915d-4b6d-bb65-38ae8ba93bbe-e457b2e3-2aba-4636-8265-fb72399cdfdd'}, {'source': 'e457b2e3-2aba-4636-8265-fb72399cdfdd', 'target': '5af5f138-4c9c-4d09-b3ce-cfb167043370', 'markerEnd': {'type': 'arrowclosed'}, 'data': {'sourceNodeType': 'activityNode'}, 'type': 'customEdge', 'id': 'xy-edge__e457b2e3-2aba-4636-8265-fb72399cdfdd-5af5f138-4c9c-4d09-b3ce-cfb167043370'}, {'source': '5af5f138-4c9c-4d09-b3ce-cfb167043370', 'target': '582aed3b-ac05-44a8-b187-de9e3c3c0f9a', 'markerEnd': {'type': 'arrowclosed'}, 'data': {'sourceNodeType': 'activityNode'}, 'type': 'customEdge', 'id': 'xy-edge__5af5f138-4c9c-4d09-b3ce-cfb167043370-582aed3b-ac05-44a8-b187-de9e3c3c0f9a'}, {'source': '582aed3b-ac05-44a8-b187-de9e3c3c0f9a', 'target': 'c2bbbf4d-b330-45f4-9d58-17a53762b120', 'markerEnd': {'type': 'arrowclosed'}, 'data': {'sourceNodeType': 'activityNode'}, 'type': 'customEdge', 'id': 'xy-edge__582aed3b-ac05-44a8-b187-de9e3c3c0f9a-c2bbbf4d-b330-45f4-9d58-17a53762b120'}, {'source': 'c2bbbf4d-b330-45f4-9d58-17a53762b120', 'target': '3ed07efe-01c5-4784-8c70-05b979678218', 'markerEnd': {'type': 'arrowclosed'}, 'data': {'sourceNodeType': 'activityNode'}, 'type': 'customEdge', 'id': 'xy-edge__c2bbbf4d-b330-45f4-9d58-17a53762b120-3ed07efe-01c5-4784-8c70-05b979678218'}], 'viewport': {'x': -9.562653215277464, 'y': 56.81737456231963, 'zoom': 0.9841234423189926}}, 'title': 'Airway Management'}, {'id': '465ce30d-7041-4ce8-9b06-3286858716bc', 'flow': {'nodes': [], 'edges': [], 'viewport': {'x': 0, 'y': 0, 'zoom': 1}}, 'title': 'Procedure 1', 'parentId': 'c5fd3fdb-3260-4fdb-8d62-e1691e73d179'}, {'id': 'cf96c311-b1da-4360-b0b5-f716c455ea4a', 'flow': {'nodes': [], 'edges': [], 'viewport': {'x': 68.13212571872657, 'y': 86.57581247764521, 'zoom': 1.3085780714550097}}, 'title': 'Start', 'parentId': 'c5fd3fdb-3260-4fdb-8d62-e1691e73d179'}, {'id': 'b080097d-3a7b-4e34-83fa-cfc03259c6d0', 'flow': {'nodes': [], 'edges': [], 'viewport': {'x': 0, 'y': 0, 'zoom': 1}}, 'title': 'CheckAvailableMedicalDevices', 'parentId': 'c5fd3fdb-3260-4fdb-8d62-e1691e73d179'}, {'id': '8f5e9174-644d-4f6c-bee3-e2fc434a63ef', 'flow': {'nodes': [], 'edges': [], 'viewport': {'x': 0, 'y': 0, 'zoom': 1}}, 'title': 'OpenMouth', 'parentId': 'c5fd3fdb-3260-4fdb-8d62-e1691e73d179'}, {'id': 'bf698700-ac29-43c9-8afd-3b88ca0f4fd3', 'flow': {'nodes': [], 'edges': [], 'viewport': {'x': 0, 'y': 0, 'zoom': 1}}, 'title': 'OropharyngealAirwayPlacement', 'parentId': 'c5fd3fdb-3260-4fdb-8d62-e1691e73d179'}, {'id': '5078e25f-ad8d-4ffe-831c-2048404643d7', 'flow': {'nodes': [], 'edges': [], 'viewport': {'x': 0, 'y': 0, 'zoom': 1}}, 'title': 'ApplyBagValveMask', 'parentId': 'c5fd3fdb-3260-4fdb-8d62-e1691e73d179'}, {'id': 'a4d00bf0-0796-4217-a937-ea73d544057d', 'flow': {'nodes': [{'id': 'e07251de-0a11-4605-b7dd-2d9bc073c845', 'position': {'x': 151.21356075452672, 'y': 234.18356854532783}, 'data': {'activity': {'name': 'DeliverBreathBagValveCPR', 'content': {'nodePhrases': [{'clipId': 'Description', 'level': 'Novice', 'text': \"Nel caso dell'esecuzione delle compressioni toraciche, dopo 30 compressioni, consegnano due ventilazioni, ciascuna della durata di 1 secondo, assicurandosi che ciò comporti un'espansione del torace visibile.In alcuni secondi il medico di fronte a te finirà con le conmpressioni.\"}, {'clipId': 'Description', 'level': 'Intermediate', 'text': ''}, {'clipId': 'Description', 'level': 'Expert', 'text': ''}, {'clipId': 'DeliverBreathBagValveCPRUserInfo', 'level': 'Novice', 'text': 'Comprimere per fornire ossigeno.'}], 'details': '', 'notes': ''}, 'subProcedureId': 'e61d67e1-6387-4c75-9292-a6fd0ae8ffae', 'isEngActiveLanguage': True, 'isSubProcedureEmpty': False}}, 'type': 'activityNode', 'measured': {'width': 228, 'height': 45}, 'selected': False, 'dragging': False}, {'id': '134fa975-9b5b-4237-9768-eb8b962458bf', 'position': {'x': 268.5185870798281, 'y': 377.60078399058375}, 'data': {'activity': {'name': 'DeliverBreathBagValveNoCPR', 'content': {'nodePhrases': [{'clipId': 'Description', 'level': 'Novice', 'text': 'Se le compressioni toraciche non vengono eseguite, una compressione dovrebbe essere consegnata ogni 6 secondi.Ora prova a consegnarli entro il lasso di tempo indicato.'}, {'clipId': 'Description', 'level': 'Intermediate', 'text': ''}, {'clipId': 'Description', 'level': 'Expert', 'text': ''}, {'clipId': 'DeliverBreathBagValveNoCPRUserInfo', 'level': 'Novice', 'text': 'Comprimere per dare ossigeno.'}], 'details': '', 'notes': ''}, 'subProcedureId': '605a6373-41a3-4c26-8873-53df7f500f88', 'isEngActiveLanguage': True, 'isSubProcedureEmpty': False}}, 'type': 'activityNode', 'measured': {'width': 249, 'height': 45}, 'selected': False, 'dragging': False}], 'edges': [{'source': 'e07251de-0a11-4605-b7dd-2d9bc073c845', 'target': '134fa975-9b5b-4237-9768-eb8b962458bf', 'markerEnd': {'type': 'arrowclosed'}, 'data': {'sourceNodeType': 'activityNode'}, 'type': 'customEdge', 'id': 'xy-edge__e07251de-0a11-4605-b7dd-2d9bc073c845-134fa975-9b5b-4237-9768-eb8b962458bf'}], 'viewport': {'x': 69.64061152501591, 'y': 11.592084600295664, 'zoom': 1.1335996317535586}}, 'title': 'DeliverBreathBagValveCPRandNoCPR', 'parentId': 'c5fd3fdb-3260-4fdb-8d62-e1691e73d179'}, {'id': '948e7590-f3b9-4bef-a978-7af7b7af6ea0', 'flow': {'nodes': [], 'edges': [], 'viewport': {'x': 0, 'y': 0, 'zoom': 1}}, 'title': 'End', 'parentId': 'c5fd3fdb-3260-4fdb-8d62-e1691e73d179'}, {'id': 'e61d67e1-6387-4c75-9292-a6fd0ae8ffae', 'flow': {'nodes': [{'id': 'b49a534b-e2f6-4046-bb9c-28c4ffc8f67e', 'position': {'x': 289.851251048263, 'y': 439.1304476991039}, 'data': {'activity': {'name': 'DeliverBreathBagValve', 'content': {'nodePhrases': [{'clipId': 'Description', 'level': 'Novice', 'text': 'Somministrare il respiro quando necessario.'}, {'clipId': 'Description', 'level': 'Intermediate', 'text': ''}, {'clipId': 'Description', 'level': 'Expert', 'text': ''}, {'clipId': 'RepeatCompression', 'level': 'Novice', 'text': 'Compressione nel momento sbagliato.È necessario comprimere {\"Numbertimes\": \"\"} {Times = \"Singular\": \"time\"; \"plurale\": \"Times\"} Every {\"numericonds\": \"\"} {\"Seconds\" = \"Singular\": \"Second\";\" Plurale \":\" secondi \"}'}, {'clipId': 'CompressNow', 'level': 'Novice', 'text': 'Compress ora'}, {'clipId': 'TimerExpired', 'level': 'Novice', 'text': 'Timer fuori'}], 'details': 'Ripeti la compressione solo una volta.', 'notes': ''}, 'subProcedureId': '62932db4-153b-4e64-b8fa-8ae564beadff', 'isEngActiveLanguage': True, 'isSubProcedureEmpty': True}}, 'type': 'activityNode', 'measured': {'width': 200, 'height': 45}, 'selected': True, 'dragging': False}, {'id': 'a14f6011-2be3-48a3-a7d4-9cae7539f362', 'position': {'x': 378, 'y': 321.5}, 'data': {'name': 'CPR Concluded', 'details': 'Another user has finished CPR on the patient'}, 'type': 'eventNode', 'measured': {'width': 150, 'height': 45}, 'selected': False, 'dragging': False}], 'edges': [{'source': 'a14f6011-2be3-48a3-a7d4-9cae7539f362', 'sourceHandle': 'trigger-handle', 'target': 'b49a534b-e2f6-4046-bb9c-28c4ffc8f67e', 'markerEnd': {'type': 'arrowclosed'}, 'data': {'sourceNodeType': 'eventNode'}, 'type': 'customEdge', 'id': 'xy-edge__a14f6011-2be3-48a3-a7d4-9cae7539f362trigger-handle-b49a534b-e2f6-4046-bb9c-28c4ffc8f67e'}], 'viewport': {'x': 69.64061152501591, 'y': 11.592084600295664, 'zoom': 1.1335996317535586}}, 'title': 'DeliverBreathBagValveCPR', 'parentId': 'a4d00bf0-0796-4217-a937-ea73d544057d'}, {'id': '605a6373-41a3-4c26-8873-53df7f500f88', 'flow': {'nodes': [{'id': '4f8d6d96-9075-45c1-b367-9261a614bfee', 'position': {'x': 197.18234044840835, 'y': 312.17491250296524}, 'data': {'activity': {'name': 'DeliverBreathBagValve', 'content': {'nodePhrases': [{'clipId': 'Description', 'level': 'Novice', 'text': 'Somministrare il respiro quando necessario.'}, {'clipId': 'Description', 'level': 'Intermediate', 'text': ''}, {'clipId': 'Description', 'level': 'Expert', 'text': ''}, {'clipId': 'RepeatCompression', 'level': 'Novice', 'text': 'Compressione nel momento sbagliato.È necessario comprimere {\"Numbertimes\": \"\"} {Times = \"Singular\": \"time\"; \"plurale\": \"Times\"} Every {\"numericonds\": \"\"} {\"Seconds\" = \"Singular\": \"Second\";\" Plurale \":\" secondi \"}'}, {'clipId': 'CompressNow', 'level': 'Novice', 'text': 'Compress ora'}, {'clipId': 'TimerExpired', 'level': 'Novice', 'text': 'Timer fuori'}], 'details': 'Ripeti le compressioni 2 volte ogni 6 volte.', 'notes': ''}, 'subProcedureId': '91e44879-c5ad-4a82-9a6a-4c953db50f52', 'isEngActiveLanguage': True, 'isSubProcedureEmpty': True}}, 'type': 'activityNode', 'measured': {'width': 200, 'height': 45}, 'selected': True, 'dragging': False}, {'id': '840b0d57-5781-4963-b555-e72715460592', 'position': {'x': 458.0551628133018, 'y': 460.0083232561378}, 'data': {'name': 'Correct?', 'details': 'If the user has correctly delivered the compression go forward otherwise repeat the process.'}, 'type': 'decisionNode', 'measured': {'width': 100, 'height': 100}, 'selected': False, 'dragging': False}], 'edges': [{'source': '4f8d6d96-9075-45c1-b367-9261a614bfee', 'target': '840b0d57-5781-4963-b555-e72715460592', 'markerEnd': {'type': 'arrowclosed'}, 'data': {'sourceNodeType': 'activityNode'}, 'type': 'customEdge', 'id': 'xy-edge__4f8d6d96-9075-45c1-b367-9261a614bfee-840b0d57-5781-4963-b555-e72715460592'}, {'source': '840b0d57-5781-4963-b555-e72715460592', 'sourceHandle': 'no-handle', 'target': '4f8d6d96-9075-45c1-b367-9261a614bfee', 'markerEnd': {'type': 'arrowclosed'}, 'data': {'sourceNodeType': 'decisionNode'}, 'type': 'customEdge', 'id': 'xy-edge__840b0d57-5781-4963-b555-e72715460592no-handle-4f8d6d96-9075-45c1-b367-9261a614bfee'}], 'viewport': {'x': 68.64061152501591, 'y': 11.592084600295664, 'zoom': 1.1335996317535586}}, 'title': 'DeliverBreathBagValveNoCPR', 'parentId': 'a4d00bf0-0796-4217-a937-ea73d544057d'}, {'id': '62932db4-153b-4e64-b8fa-8ae564beadff', 'flow': {'nodes': [], 'edges': [], 'viewport': {'x': 0, 'y': 0, 'zoom': 1}}, 'title': 'DeliverBreathBagValve', 'parentId': 'e61d67e1-6387-4c75-9292-a6fd0ae8ffae'}, {'id': '91e44879-c5ad-4a82-9a6a-4c953db50f52', 'flow': {'nodes': [], 'edges': [], 'viewport': {'x': 0, 'y': 0, 'zoom': 1}}, 'title': 'DeliverBreathBagValve', 'parentId': '605a6373-41a3-4c26-8873-53df7f500f88'}, {'id': 'add5f8c0-cb95-40ea-92c1-c64b0e936ca4', 'flow': {'nodes': [], 'edges': [], 'viewport': {'x': 325.15888165614365, 'y': 124.20598804715229, 'zoom': 0.765459622018214}}, 'title': 'End', 'parentId': 'c5fd3fdb-3260-4fdb-8d62-e1691e73d179'}]\n"
     ]
    }
   ],
   "source": [
    "import json\n",
    "from googletrans import Translator\n",
    "\n",
    "# Percorso del file originale\n",
    "file_path = r\"D:\\Downloads\\Airway Management.procedure\"\n",
    "output_path = r\"C:\\Users\\dansp\\OneDrive\\Desktop\\traduzione.txt\"\n",
    "\n",
    "# Inizializza il traduttore\n",
    "translator = Translator()\n",
    "\n",
    "# Funzione per tradurre il testo\n",
    "def translate_text(text, dest_lang=\"it\"):\n",
    "    if text.strip():  # Evita di tradurre stringhe vuote\n",
    "        try:\n",
    "            return translator.translate(text, dest=dest_lang).text\n",
    "        except Exception as e:\n",
    "            print(f\"Errore nella traduzione: {e}\")\n",
    "            return text  # Ritorna il testo originale in caso di errore\n",
    "    return text\n",
    "\n",
    "# Leggere il file JSON\n",
    "with open(file_path, \"r\", encoding=\"utf-8\") as file:\n",
    "    data = json.load(file)\n",
    "\n",
    "# Iterare su tutte le procedure e tradurre i campi richiesti\n",
    "for procedure in data:\n",
    "    if \"flow\" in procedure and \"nodes\" in procedure[\"flow\"]:\n",
    "        for node in procedure[\"flow\"][\"nodes\"]:\n",
    "            if \"data\" in node and \"activity\" in node[\"data\"]:\n",
    "                content = node[\"data\"][\"activity\"].get(\"content\", {})\n",
    "\n",
    "                # Traduzione delle frasi nei nodePhrases\n",
    "                if \"nodePhrases\" in content:\n",
    "                    for phrase in content[\"nodePhrases\"]:\n",
    "                        phrase[\"text\"] = translate_text(phrase[\"text\"])\n",
    "\n",
    "                # Traduzione di details e notes\n",
    "                content[\"details\"] = translate_text(content.get(\"details\", \"\"))\n",
    "                content[\"notes\"] = translate_text(content.get(\"notes\", \"\"))\n",
    "\n",
    "# Salvare il file tradotto\n",
    "with open(output_path, \"w\", encoding=\"utf-8\") as file:\n",
    "    json.dump(data, file, ensure_ascii=False, indent=2)\n",
    "\n"
   ]
  }
 ],
 "metadata": {
  "kernelspec": {
   "display_name": "tf",
   "language": "python",
   "name": "python3"
  },
  "language_info": {
   "codemirror_mode": {
    "name": "ipython",
    "version": 3
   },
   "file_extension": ".py",
   "mimetype": "text/x-python",
   "name": "python",
   "nbconvert_exporter": "python",
   "pygments_lexer": "ipython3",
   "version": "3.10.9"
  }
 },
 "nbformat": 4,
 "nbformat_minor": 2
}
