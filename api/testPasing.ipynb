{
 "cells": [
  {
   "cell_type": "code",
   "execution_count": 1,
   "metadata": {},
   "outputs": [],
   "source": [
    "import xml.etree.ElementTree as ET\n",
    "import os"
   ]
  },
  {
   "cell_type": "code",
   "execution_count": 22,
   "metadata": {},
   "outputs": [],
   "source": [
    "\n",
    "# Function to parse the XML file\n",
    "def parse_node_xml(file_path):\n",
    "# Parse the XML file\n",
    "    tree = ET.parse(file_path)\n",
    "    root = tree.getroot()\n",
    "\n",
    "    file_name = os.path.splitext(os.path.basename(file_path))[0]\n",
    "    # Dictionary to hold parsed content\n",
    "    parsed_data = {'Name':file_name}\n",
    "\n",
    "    # Iterate over language nodes\n",
    "    for language in root.findall('language'):\n",
    "        lang_code = language.get('value')\n",
    "        parsed_data[lang_code] = {\n",
    "            'descriptions': {},\n",
    "            'nodePhrases': {}\n",
    "        }\n",
    "\n",
    "        # Extract descriptions by level (Novice, Intermediate, Expert)\n",
    "        for description in language.findall('description'):\n",
    "            level = description.get('level')\n",
    "            text = description.text.strip() if description.text else \"No description available\"\n",
    "            parsed_data[lang_code]['descriptions'][level] = text\n",
    "\n",
    "        # Extract node phrases by level (Novice, Intermediate, Expert)\n",
    "        for nodePhrase in language.findall('nodePhrase'):\n",
    "            level = nodePhrase.get('level')\n",
    "            clipId = nodePhrase.get('clipId')\n",
    "            text = nodePhrase.text.strip() if nodePhrase.text else \"No node phrase available\"\n",
    "            \n",
    "            if level not in parsed_data[lang_code]['nodePhrases']:\n",
    "                parsed_data[lang_code]['nodePhrases'][level] = {}\n",
    "\n",
    "            parsed_data[lang_code]['nodePhrases'][level][clipId] = text\n",
    "\n",
    "    return parsed_data\n",
    "\n",
    "\n",
    "def write_node_to_xml(node,filepath):\n",
    "    root=ET.Element(\"node\")\n",
    "\n",
    "    for \n",
    "\n",
    "    ET.SubElement(root,)\n",
    "\n",
    "def printParsedXml(parsed_content):\n",
    "    for language, content in parsed_content.items():\n",
    "        if(language==\"Name\"):\n",
    "            print(f\"{content}\\n\")\n",
    "            continue\n",
    "\n",
    "        print(f\"Language: {language}\")\n",
    "\n",
    "        print(\"Descriptions:\")\n",
    "        for level, description in content['descriptions'].items():\n",
    "            print(f\"  {level}: {description}\")\n",
    "    \n",
    "        print(\"\\nNode Phrases:\")\n",
    "        for level, phrases in content['nodePhrases'].items():\n",
    "            print(f\"  {level}:\")\n",
    "            for clipId, phrase in phrases.items():\n",
    "                print(f\"    {clipId}: {phrase}\")\n",
    "    \n",
    "        print(\"\\n\")"
   ]
  },
  {
   "cell_type": "code",
   "execution_count": 23,
   "metadata": {},
   "outputs": [
    {
     "name": "stdout",
     "output_type": "stream",
     "text": [
      "DefibrillatorInit\n",
      "\n",
      "Language: ITA\n",
      "Descriptions:\n",
      "  Novice: Posiziona le placche adesive come indicato sul torace del paziente e collegale al defibrillatore tramite lo spinotto.\n",
      "  Intermediate: Applica le placche e attacca lo spinotto.\n",
      "  Expert: Applica le placche e attacca lo spinotto.\n",
      "\n",
      "Node Phrases:\n",
      "  Novice:\n",
      "    DefibrillatorInitPaddlePlaced: piastra in posizione\n",
      "    DefibrillatorInitPaddlesPlaced: Tutte le piastre sono correttamente posizionate.\n",
      "    DefibrillatorInitPlugConnected: spinotto inserito\n",
      "    DefibrillatorInitUserInfoPaddles: posizionato le piastre sul petto\n",
      "    DefibrillatorInitUserInfoPlug: inserito lo spinotto\n",
      "    DefibrillatorInitUserInfoStart: Non hai ancora\n",
      "\n",
      "\n",
      "Language: ENG\n",
      "Descriptions:\n",
      "  Novice: Place the adhesive pads as indicated on the patient's chest and connect them to the defibrillator via the plug.\n",
      "  Intermediate: Attach the pads and plug in the connector.\n",
      "  Expert: Attach the pads and plug in the connector.\n",
      "\n",
      "Node Phrases:\n",
      "  Novice:\n",
      "    DefibrillatorInitPaddlePlaced: paddle in place\n",
      "    DefibrillatorInitPaddlesPlaced: All paddles correctly place.\n",
      "    DefibrillatorInitPlugConnected: connector plugged\n",
      "    DefibrillatorInitUserInfoPaddles: position both paddles on the chest\n",
      "    DefibrillatorInitUserInfoPlug: connected the plug\n",
      "    DefibrillatorInitUserInfoStart: You still did not\n",
      "\n",
      "\n"
     ]
    }
   ],
   "source": [
    "# Path to the XML file\n",
    "file_path = r\"..\\public\\xmls\\Educational-Contents\\BLSDPro\\DefibrillatorInit.xml\"\n",
    "\n",
    "# Call the function and print parsed data\n",
    "parsed_content = parse_node_xml(file_path)\n",
    "# Output the parsed descriptions and node phrases\n",
    "printParsedXml(parsed_content)"
   ]
  },
  {
   "cell_type": "code",
   "execution_count": 18,
   "metadata": {},
   "outputs": [
    {
     "name": "stdout",
     "output_type": "stream",
     "text": [
      "key: Name    value: DefibrillatorInit.xml\n",
      "\n",
      "key: ITA    value: {'descriptions': {'Novice': 'Posiziona le placche adesive come indicato sul torace del paziente e collegale al defibrillatore tramite lo spinotto.', 'Intermediate': 'Applica le placche e attacca lo spinotto.', 'Expert': 'Applica le placche e attacca lo spinotto.'}, 'nodePhrases': {'Novice': {'DefibrillatorInitPaddlePlaced': 'piastra in posizione', 'DefibrillatorInitPaddlesPlaced': 'Tutte le piastre sono correttamente posizionate.', 'DefibrillatorInitPlugConnected': 'spinotto inserito', 'DefibrillatorInitUserInfoPaddles': 'posizionato le piastre sul petto', 'DefibrillatorInitUserInfoPlug': 'inserito lo spinotto', 'DefibrillatorInitUserInfoStart': 'Non hai ancora'}}}\n",
      "\n",
      "key: ENG    value: {'descriptions': {'Novice': \"Place the adhesive pads as indicated on the patient's chest and connect them to the defibrillator via the plug.\", 'Intermediate': 'Attach the pads and plug in the connector.', 'Expert': 'Attach the pads and plug in the connector.'}, 'nodePhrases': {'Novice': {'DefibrillatorInitPaddlePlaced': 'paddle in place', 'DefibrillatorInitPaddlesPlaced': 'All paddles correctly place.', 'DefibrillatorInitPlugConnected': 'connector plugged', 'DefibrillatorInitUserInfoPaddles': 'position both paddles on the chest', 'DefibrillatorInitUserInfoPlug': 'connected the plug', 'DefibrillatorInitUserInfoStart': 'You still did not'}}}\n",
      "\n"
     ]
    }
   ],
   "source": [
    "x=parsed_content.items()\n",
    "\n",
    "for key,value in x:\n",
    "    print(f\"key: {key}    value: {value}\\n\")"
   ]
  },
  {
   "cell_type": "code",
   "execution_count": 15,
   "metadata": {},
   "outputs": [
    {
     "name": "stdout",
     "output_type": "stream",
     "text": [
      "{'Name': 'DefibrillatorInit.xml', 'ITA': {'descriptions': {'Novice': 'Posiziona le placche adesive come indicato sul torace del paziente e collegale al defibrillatore tramite lo spinotto.', 'Intermediate': 'Applica le placche e attacca lo spinotto.', 'Expert': 'Applica le placche e attacca lo spinotto.'}, 'nodePhrases': {'Novice': {'DefibrillatorInitPaddlePlaced': 'piastra in posizione', 'DefibrillatorInitPaddlesPlaced': 'Tutte le piastre sono correttamente posizionate.', 'DefibrillatorInitPlugConnected': 'spinotto inserito', 'DefibrillatorInitUserInfoPaddles': 'posizionato le piastre sul petto', 'DefibrillatorInitUserInfoPlug': 'inserito lo spinotto', 'DefibrillatorInitUserInfoStart': 'Non hai ancora'}}}, 'ENG': {'descriptions': {'Novice': \"Place the adhesive pads as indicated on the patient's chest and connect them to the defibrillator via the plug.\", 'Intermediate': 'Attach the pads and plug in the connector.', 'Expert': 'Attach the pads and plug in the connector.'}, 'nodePhrases': {'Novice': {'DefibrillatorInitPaddlePlaced': 'paddle in place', 'DefibrillatorInitPaddlesPlaced': 'All paddles correctly place.', 'DefibrillatorInitPlugConnected': 'connector plugged', 'DefibrillatorInitUserInfoPaddles': 'position both paddles on the chest', 'DefibrillatorInitUserInfoPlug': 'connected the plug', 'DefibrillatorInitUserInfoStart': 'You still did not'}}}}\n"
     ]
    }
   ],
   "source": [
    "print(parsed_content)"
   ]
  },
  {
   "cell_type": "markdown",
   "metadata": {},
   "source": [
    "## Test parsing .procedure file"
   ]
  },
  {
   "cell_type": "code",
   "execution_count": 135,
   "metadata": {},
   "outputs": [],
   "source": [
    "import os\n",
    "import json\n",
    "from xml.etree.ElementTree import Element, SubElement, tostring\n",
    "from xml.dom.minidom import parseString"
   ]
  },
  {
   "cell_type": "code",
   "execution_count": 142,
   "metadata": {},
   "outputs": [],
   "source": [
    "# Funzione per creare l'XML\n",
    "def create_activity_xml(node_phrases):\n",
    "    root = Element('node')\n",
    "    # Lingua italiana\n",
    "    ita = SubElement(root, 'language', value='ITA')\n",
    "    for phrase in node_phrases:\n",
    "        if phrase['clipId'] == 'Description':\n",
    "            desc = SubElement(ita, 'description', level=phrase['level'])\n",
    "            desc.text = phrase.get('text', phrase['level'])\n",
    "        else:\n",
    "            node_phrase = SubElement(ita, 'nodePhrase', clipId=phrase['clipId'], level=phrase['level'])\n",
    "            node_phrase.text = phrase.get('text', phrase['clipId'])\n",
    "\n",
    "    # Convertire l'albero XML in una stringa formattata\n",
    "    xml_str = parseString(tostring(root, encoding=\"unicode\")).toprettyxml(indent=\"   \").replace(\"&quot;\",\"\\\"\")\n",
    "\n",
    "    return xml_str\n",
    "\n",
    "def retrieveAllActivities(data):\n",
    "    activities = []\n",
    "\n",
    "    for node in data.get('flow', {}).get('nodes', []):\n",
    "        #retrieve the single activity\n",
    "        activity = node.get('data', {}).get('activity', None)\n",
    "        if not activity: \n",
    "            continue\n",
    "        \n",
    "        #activity contains aslo subProcedure but we are interested only in the name e phrases\n",
    "        slimActivity= Activity(activity.get('name',\"\"), activity.get('nodePhrases',[]))\n",
    "        activities.append(slimActivity)\n",
    "\n",
    "        #Retrieve all the activities present in the subProcedure\n",
    "        subProcedure=activity.get('subProcedure',None)\n",
    "        if not subProcedure:\n",
    "            continue\n",
    "\n",
    "        subProcedureActivities=retrieveAllActivities(subProcedure)\n",
    "        if not subProcedureActivities:\n",
    "            continue\n",
    "        #append each sub-activities\n",
    "        for subProcedureActivity in subProcedureActivities:\n",
    "            activities.append(subProcedureActivity)\n",
    "\n",
    "    return activities\n",
    "\n",
    "class Activity:\n",
    "    def __init__(self, name, node_phrases):\n",
    "        self.name = name  \n",
    "        self.node_phrases = node_phrases\n",
    "    \n",
    "    def printSinglePhrase(self,phrase):\n",
    "        return f\"{phrase['clipId']} {phrase['level']}: {phrase['text']}\"\n",
    "\n",
    "    def __str__(self):\n",
    "        phrases=\"\"\n",
    "        for phrase in self.node_phrases:\n",
    "            phrases +=\"  \"+ self.printSinglePhrase(phrase)+\"\\n\"\n",
    "\n",
    "        return f\"Start\\n {self.name}\\n NodePhrases:\\n{phrases}END\"  # Correct: Returning a string\n",
    "\n",
    "def writeXMLFile(output_dir,xml_content,xml_name):\n",
    "    output_file = os.path.join(output_dir, f\"{xml_name}.xml\")\n",
    "    with open(output_file, 'w', encoding='utf-8') as f:\n",
    "        f.write(xml_content)"
   ]
  },
  {
   "cell_type": "code",
   "execution_count": 143,
   "metadata": {},
   "outputs": [
    {
     "name": "stdout",
     "output_type": "stream",
     "text": [
      "Start\n",
      " AskDefibrillator\n",
      " NodePhrases:\n",
      "  Description Expert: Prendi un defibrillatore. Se non sei solo, chiedi a qualcuno di procurarti un defibrillatore. Non muoverti dalla scena. Unico passaggio con \"call emergency\"\n",
      "  Description Intermediate: Prendi un defibrillatore. Se non sei solo, chiedi a qualcuno di procurarti un defibrillatore. Non muoverti dalla scena. Unico passaggio con \"call emergency\"\n",
      "  Description Novice: Prendi un defibrillatore. Se non sei solo, chiedi a qualcuno di procurarti un defibrillatore. Non muoverti dalla scena.\n",
      "  AskDefibrillatorUserInfo1 Novice: Guarda intorno a te. C'è qualcuno nella stanza che può portarti il defibrillatore\n",
      "  AskDefibrillatorUserInfo2 Novice: Non hai ancora chiesto un defibrillatore. Guarda meglio intorno a te. C'è qualcuno nella stanza che può aiutarti\n",
      "  AskDefibrillatorUserInfo3 Novice: C'è una persona nella stanza {FRONTBACK=\"FRONT\":\"di fronte a te\";\"BACK\":\"dietro di te\"} e sulla tua {LEFTRIGHT=\"LEFT\":\"sinistra\";\"RIGHT\":\"destra\"}. Chiedigli di portare un defibrillatore\n",
      "END\n"
     ]
    }
   ],
   "source": [
    "# Percorso del file\n",
    "input_file=r\"D:\\Downloads\\Test.procedure\"\n",
    "output_dir =r\"D:\\Downloads\\generatedXML\"\n",
    "\n",
    "# Creare la directory di output se non esiste\n",
    "#os.makedirs(output_dir, exist_ok=True)\n",
    "\n",
    "# Caricare il file JSON e generare i file XML\n",
    "with open(input_file, 'r', encoding='utf-8') as file:\n",
    "    data = json.load(file)\n",
    "\n",
    "activities=retrieveAllActivities(data)\n",
    "\n",
    "print(activities[0])\n",
    "\n",
    "# print(*activities, sep='\\n')"
   ]
  },
  {
   "cell_type": "code",
   "execution_count": 144,
   "metadata": {},
   "outputs": [
    {
     "name": "stdout",
     "output_type": "stream",
     "text": [
      "<?xml version=\"1.0\" ?>\n",
      "<node>\n",
      "   <language value=\"ITA\">\n",
      "      <description level=\"Expert\">Prendi un defibrillatore. Se non sei solo, chiedi a qualcuno di procurarti un defibrillatore. Non muoverti dalla scena. Unico passaggio con \"call emergency\"</description>\n",
      "      <description level=\"Intermediate\">Prendi un defibrillatore. Se non sei solo, chiedi a qualcuno di procurarti un defibrillatore. Non muoverti dalla scena. Unico passaggio con \"call emergency\"</description>\n",
      "      <description level=\"Novice\">Prendi un defibrillatore. Se non sei solo, chiedi a qualcuno di procurarti un defibrillatore. Non muoverti dalla scena.</description>\n",
      "      <nodePhrase clipId=\"AskDefibrillatorUserInfo1\" level=\"Novice\">Guarda intorno a te. C'è qualcuno nella stanza che può portarti il defibrillatore</nodePhrase>\n",
      "      <nodePhrase clipId=\"AskDefibrillatorUserInfo2\" level=\"Novice\">Non hai ancora chiesto un defibrillatore. Guarda meglio intorno a te. C'è qualcuno nella stanza che può aiutarti</nodePhrase>\n",
      "      <nodePhrase clipId=\"AskDefibrillatorUserInfo3\" level=\"Novice\">C'è una persona nella stanza {FRONTBACK=\"FRONT\":\"di fronte a te\";\"BACK\":\"dietro di te\"} e sulla tua {LEFTRIGHT=\"LEFT\":\"sinistra\";\"RIGHT\":\"destra\"}. Chiedigli di portare un defibrillatore</nodePhrase>\n",
      "   </language>\n",
      "</node>\n",
      "\n"
     ]
    }
   ],
   "source": [
    "# for activity in activities:\n",
    "#     xml_content = create_activity_xml(activity.node_phrases)\n",
    "#     print(xml_content)\n",
    "activity=activities[0]\n",
    "xml_content = create_activity_xml(activity.node_phrases)\n",
    "print(xml_content)\n",
    "# writeXMLFile(output_dir,xml_content,activity.name)"
   ]
  },
  {
   "cell_type": "code",
   "execution_count": null,
   "metadata": {},
   "outputs": [],
   "source": []
  }
 ],
 "metadata": {
  "kernelspec": {
   "display_name": "tf",
   "language": "python",
   "name": "python3"
  },
  "language_info": {
   "codemirror_mode": {
    "name": "ipython",
    "version": 3
   },
   "file_extension": ".py",
   "mimetype": "text/x-python",
   "name": "python",
   "nbconvert_exporter": "python",
   "pygments_lexer": "ipython3",
   "version": "3.10.9"
  }
 },
 "nbformat": 4,
 "nbformat_minor": 2
}
