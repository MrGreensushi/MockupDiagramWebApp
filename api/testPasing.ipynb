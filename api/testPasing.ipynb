{
 "cells": [
  {
   "cell_type": "code",
   "execution_count": 1,
   "metadata": {},
   "outputs": [],
   "source": [
    "import xml.etree.ElementTree as ET\n",
    "import os"
   ]
  },
  {
   "cell_type": "code",
   "execution_count": 22,
   "metadata": {},
   "outputs": [],
   "source": [
    "\n",
    "# Function to parse the XML file\n",
    "def parse_node_xml(file_path):\n",
    "# Parse the XML file\n",
    "    tree = ET.parse(file_path)\n",
    "    root = tree.getroot()\n",
    "\n",
    "    file_name = os.path.splitext(os.path.basename(file_path))[0]\n",
    "    # Dictionary to hold parsed content\n",
    "    parsed_data = {'Name':file_name}\n",
    "\n",
    "    # Iterate over language nodes\n",
    "    for language in root.findall('language'):\n",
    "        lang_code = language.get('value')\n",
    "        parsed_data[lang_code] = {\n",
    "            'descriptions': {},\n",
    "            'nodePhrases': {}\n",
    "        }\n",
    "\n",
    "        # Extract descriptions by level (Novice, Intermediate, Expert)\n",
    "        for description in language.findall('description'):\n",
    "            level = description.get('level')\n",
    "            text = description.text.strip() if description.text else \"No description available\"\n",
    "            parsed_data[lang_code]['descriptions'][level] = text\n",
    "\n",
    "        # Extract node phrases by level (Novice, Intermediate, Expert)\n",
    "        for nodePhrase in language.findall('nodePhrase'):\n",
    "            level = nodePhrase.get('level')\n",
    "            clipId = nodePhrase.get('clipId')\n",
    "            text = nodePhrase.text.strip() if nodePhrase.text else \"No node phrase available\"\n",
    "            \n",
    "            if level not in parsed_data[lang_code]['nodePhrases']:\n",
    "                parsed_data[lang_code]['nodePhrases'][level] = {}\n",
    "\n",
    "            parsed_data[lang_code]['nodePhrases'][level][clipId] = text\n",
    "\n",
    "    return parsed_data\n",
    "\n",
    "\n",
    "def printParsedXml(parsed_content):\n",
    "    for language, content in parsed_content.items():\n",
    "        if(language==\"Name\"):\n",
    "            print(f\"{content}\\n\")\n",
    "            continue\n",
    "\n",
    "        print(f\"Language: {language}\")\n",
    "\n",
    "        print(\"Descriptions:\")\n",
    "        for level, description in content['descriptions'].items():\n",
    "            print(f\"  {level}: {description}\")\n",
    "    \n",
    "        print(\"\\nNode Phrases:\")\n",
    "        for level, phrases in content['nodePhrases'].items():\n",
    "            print(f\"  {level}:\")\n",
    "            for clipId, phrase in phrases.items():\n",
    "                print(f\"    {clipId}: {phrase}\")\n",
    "    \n",
    "        print(\"\\n\")"
   ]
  },
  {
   "cell_type": "code",
   "execution_count": 23,
   "metadata": {},
   "outputs": [
    {
     "name": "stdout",
     "output_type": "stream",
     "text": [
      "DefibrillatorInit\n",
      "\n",
      "Language: ITA\n",
      "Descriptions:\n",
      "  Novice: Posiziona le placche adesive come indicato sul torace del paziente e collegale al defibrillatore tramite lo spinotto.\n",
      "  Intermediate: Applica le placche e attacca lo spinotto.\n",
      "  Expert: Applica le placche e attacca lo spinotto.\n",
      "\n",
      "Node Phrases:\n",
      "  Novice:\n",
      "    DefibrillatorInitPaddlePlaced: piastra in posizione\n",
      "    DefibrillatorInitPaddlesPlaced: Tutte le piastre sono correttamente posizionate.\n",
      "    DefibrillatorInitPlugConnected: spinotto inserito\n",
      "    DefibrillatorInitUserInfoPaddles: posizionato le piastre sul petto\n",
      "    DefibrillatorInitUserInfoPlug: inserito lo spinotto\n",
      "    DefibrillatorInitUserInfoStart: Non hai ancora\n",
      "\n",
      "\n",
      "Language: ENG\n",
      "Descriptions:\n",
      "  Novice: Place the adhesive pads as indicated on the patient's chest and connect them to the defibrillator via the plug.\n",
      "  Intermediate: Attach the pads and plug in the connector.\n",
      "  Expert: Attach the pads and plug in the connector.\n",
      "\n",
      "Node Phrases:\n",
      "  Novice:\n",
      "    DefibrillatorInitPaddlePlaced: paddle in place\n",
      "    DefibrillatorInitPaddlesPlaced: All paddles correctly place.\n",
      "    DefibrillatorInitPlugConnected: connector plugged\n",
      "    DefibrillatorInitUserInfoPaddles: position both paddles on the chest\n",
      "    DefibrillatorInitUserInfoPlug: connected the plug\n",
      "    DefibrillatorInitUserInfoStart: You still did not\n",
      "\n",
      "\n"
     ]
    }
   ],
   "source": [
    "# Path to the XML file\n",
    "file_path = r\"..\\public\\xmls\\Educational-Contents\\BLSDPro\\DefibrillatorInit.xml\"\n",
    "\n",
    "# Call the function and print parsed data\n",
    "parsed_content = parse_node_xml(file_path)\n",
    "# Output the parsed descriptions and node phrases\n",
    "printParsedXml(parsed_content)"
   ]
  },
  {
   "cell_type": "code",
   "execution_count": 18,
   "metadata": {},
   "outputs": [
    {
     "name": "stdout",
     "output_type": "stream",
     "text": [
      "key: Name    value: DefibrillatorInit.xml\n",
      "\n",
      "key: ITA    value: {'descriptions': {'Novice': 'Posiziona le placche adesive come indicato sul torace del paziente e collegale al defibrillatore tramite lo spinotto.', 'Intermediate': 'Applica le placche e attacca lo spinotto.', 'Expert': 'Applica le placche e attacca lo spinotto.'}, 'nodePhrases': {'Novice': {'DefibrillatorInitPaddlePlaced': 'piastra in posizione', 'DefibrillatorInitPaddlesPlaced': 'Tutte le piastre sono correttamente posizionate.', 'DefibrillatorInitPlugConnected': 'spinotto inserito', 'DefibrillatorInitUserInfoPaddles': 'posizionato le piastre sul petto', 'DefibrillatorInitUserInfoPlug': 'inserito lo spinotto', 'DefibrillatorInitUserInfoStart': 'Non hai ancora'}}}\n",
      "\n",
      "key: ENG    value: {'descriptions': {'Novice': \"Place the adhesive pads as indicated on the patient's chest and connect them to the defibrillator via the plug.\", 'Intermediate': 'Attach the pads and plug in the connector.', 'Expert': 'Attach the pads and plug in the connector.'}, 'nodePhrases': {'Novice': {'DefibrillatorInitPaddlePlaced': 'paddle in place', 'DefibrillatorInitPaddlesPlaced': 'All paddles correctly place.', 'DefibrillatorInitPlugConnected': 'connector plugged', 'DefibrillatorInitUserInfoPaddles': 'position both paddles on the chest', 'DefibrillatorInitUserInfoPlug': 'connected the plug', 'DefibrillatorInitUserInfoStart': 'You still did not'}}}\n",
      "\n"
     ]
    }
   ],
   "source": [
    "x=parsed_content.items()\n",
    "\n",
    "for key,value in x:\n",
    "    print(f\"key: {key}    value: {value}\\n\")"
   ]
  },
  {
   "cell_type": "code",
   "execution_count": 15,
   "metadata": {},
   "outputs": [
    {
     "name": "stdout",
     "output_type": "stream",
     "text": [
      "{'Name': 'DefibrillatorInit.xml', 'ITA': {'descriptions': {'Novice': 'Posiziona le placche adesive come indicato sul torace del paziente e collegale al defibrillatore tramite lo spinotto.', 'Intermediate': 'Applica le placche e attacca lo spinotto.', 'Expert': 'Applica le placche e attacca lo spinotto.'}, 'nodePhrases': {'Novice': {'DefibrillatorInitPaddlePlaced': 'piastra in posizione', 'DefibrillatorInitPaddlesPlaced': 'Tutte le piastre sono correttamente posizionate.', 'DefibrillatorInitPlugConnected': 'spinotto inserito', 'DefibrillatorInitUserInfoPaddles': 'posizionato le piastre sul petto', 'DefibrillatorInitUserInfoPlug': 'inserito lo spinotto', 'DefibrillatorInitUserInfoStart': 'Non hai ancora'}}}, 'ENG': {'descriptions': {'Novice': \"Place the adhesive pads as indicated on the patient's chest and connect them to the defibrillator via the plug.\", 'Intermediate': 'Attach the pads and plug in the connector.', 'Expert': 'Attach the pads and plug in the connector.'}, 'nodePhrases': {'Novice': {'DefibrillatorInitPaddlePlaced': 'paddle in place', 'DefibrillatorInitPaddlesPlaced': 'All paddles correctly place.', 'DefibrillatorInitPlugConnected': 'connector plugged', 'DefibrillatorInitUserInfoPaddles': 'position both paddles on the chest', 'DefibrillatorInitUserInfoPlug': 'connected the plug', 'DefibrillatorInitUserInfoStart': 'You still did not'}}}}\n"
     ]
    }
   ],
   "source": [
    "print(parsed_content)"
   ]
  },
  {
   "cell_type": "markdown",
   "metadata": {},
   "source": [
    "## Test parsing .procedure file"
   ]
  },
  {
   "cell_type": "code",
   "execution_count": 3,
   "metadata": {},
   "outputs": [],
   "source": [
    "import os\n",
    "import json\n",
    "from xml.etree.ElementTree import Element, SubElement, tostring\n",
    "from xml.dom.minidom import parseString\n",
    "from io import BytesIO\n",
    "import zipfile"
   ]
  },
  {
   "cell_type": "code",
   "execution_count": 10,
   "metadata": {},
   "outputs": [],
   "source": [
    "# Funzione per creare l'XML\n",
    "def create_activity_xml(activity):\n",
    "    root = Element('node')\n",
    "    # Lingua italiana\n",
    "    language_xml(root,activity.ita,'ITA')\n",
    "    language_xml(root,activity.eng,'ENG')\n",
    "\n",
    "    # Convertire l'albero XML in una stringa formattata\n",
    "    xml_str = parseString(tostring(root, encoding=\"unicode\")).toprettyxml(indent=\"   \").replace(\"&quot;\",\"\\\"\")\n",
    "\n",
    "    return xml_str\n",
    "\n",
    "def language_xml(root,activityLang,lang):\n",
    "    # Lingua italiana\n",
    "    ita = SubElement(root, 'language', value=lang)\n",
    "    for phrase in activityLang.node_phrases:\n",
    "        if phrase['clipId'] == 'Description':\n",
    "            desc = SubElement(ita, 'description', level=phrase['level'])\n",
    "            desc.text = phrase.get('text', phrase['level'])\n",
    "        else:\n",
    "            node_phrase = SubElement(ita, 'nodePhrase', clipId=phrase['clipId'], level=phrase['level'])\n",
    "            node_phrase.text = phrase.get('text', phrase['clipId'])\n",
    "    details=SubElement(ita,'details',level='Novice')\n",
    "    details.text=activityLang.details\n",
    "\n",
    "def retrieveAllActivitiesFromProcedure(data):\n",
    "    activities = []\n",
    "\n",
    "    for node in data.get('flow', {}).get('nodes', []):\n",
    "        #retrieve the single activity\n",
    "        activity = node.get('data', {}).get('activity', None)\n",
    "        if not activity: \n",
    "            continue\n",
    "        \n",
    "        #activity contains aslo subProcedure but we are interested only in the name e phrases\n",
    "        slimActivity= Activity(activity.get('name',\"\"), activity.get('languages',{}))\n",
    "        activities.append(slimActivity)\n",
    "\n",
    "        #Retrieve all the activities present in the subProcedure\n",
    "        # subProcedure=activity.get('subProcedure',None)\n",
    "        # if not subProcedure:\n",
    "        #     continue\n",
    "\n",
    "        # subProcedureActivities=retrieveAllActivities(subProcedure)\n",
    "        # if not subProcedureActivities:\n",
    "        #     continue\n",
    "        # #append each sub-activities\n",
    "        # for subProcedureActivity in subProcedureActivities:\n",
    "        #     activities.append(subProcedureActivity)\n",
    "\n",
    "    return activities\n",
    "\n",
    "def retrieveAllActivities(data):\n",
    "    activities=[]\n",
    "    for item in data:\n",
    "        if \"flow\" in item and \"nodes\" in item[\"flow\"]:\n",
    "            activities.extend(retrieveAllActivitiesFromProcedure(item))\n",
    "    return activities\n",
    "\n",
    "class Activity:\n",
    "    def __init__(self, name, languages):\n",
    "        self.name = name  \n",
    "        itaLang=languages.get('itaActivity',None)\n",
    "        itaPhrase=itaLang.get('nodePhrases',[])\n",
    "        itaDetails=itaLang.get('details',\"\")\n",
    "        self.ita = LanguageActivity(itaPhrase,itaDetails)\n",
    "        engLang=languages.get('engActivity',None)\n",
    "        engPhrase=engLang.get('nodePhrases',[])\n",
    "        engDetails=engLang.get('details',\"\")\n",
    "        self.eng = LanguageActivity(engPhrase,engDetails)\n",
    "    \n",
    "    def printSinglePhrase(self,phrase):\n",
    "        return f\"{phrase['clipId']} {phrase['level']}: {phrase['text']}\"\n",
    "\n",
    "    def __str__(self):\n",
    "        phrases=\"\"\n",
    "        for phrase in self.node_phrases:\n",
    "            phrases +=\"  \"+ self.printSinglePhrase(phrase)+\"\\n\"\n",
    "\n",
    "        return f\"Start\\n {self.name}\\n NodePhrases:\\n{phrases}END\"  # Correct: Returning a string\n",
    "\n",
    "class LanguageActivity:\n",
    "    def __init__(self,node_phrases,details):\n",
    "        self.details = details  \n",
    "        self.node_phrases = node_phrases\n",
    "\n",
    "\n",
    "def zipAllActivitiesXmls(data):\n",
    "    activities=retrieveAllActivities(data)\n",
    "    xmls=[]\n",
    "    for activity in activities:\n",
    "        xml_content=create_activity_xml(activity)\n",
    "        #writeXMLFile(output_dir,xml_content,activity.name)\n",
    "        xmls.append((f\"{activity.name}.xml\", xml_content))\n",
    "    # Preparare un archivio ZIP contenente tutti i file XML\n",
    "        print(xml_content)\n",
    "    zip_buffer = BytesIO()\n",
    "\n",
    "    with zipfile.ZipFile(zip_buffer, 'w', zipfile.ZIP_DEFLATED) as zip_file:\n",
    "        zip_file.writestr(f\"{data[0].get('title','no-title')}.procedure\", json.dumps(data, ensure_ascii=False))\n",
    "        for filename, xml_content  in xmls:\n",
    "            zip_file.writestr(filename, xml_content )\n",
    "    zip_buffer.seek(0)\n",
    "    return zip_buffer"
   ]
  },
  {
   "cell_type": "code",
   "execution_count": 11,
   "metadata": {},
   "outputs": [
    {
     "name": "stdout",
     "output_type": "stream",
     "text": [
      "<?xml version=\"1.0\" ?>\n",
      "<node>\n",
      "   <language value=\"ITA\">\n",
      "      <description level=\"Expert\">Posiziona la maschera.</description>\n",
      "      <description level=\"Intermediate\">Posiziona la maschera.</description>\n",
      "      <description level=\"Novice\">Sul pavimento troverai una maschera, afferrala e posizionala correttamente sulla bocca del paziente.</description>\n",
      "      <nodePhrase clipId=\"ApplyBreathMaskUserInfoMaskNotPositioned\" level=\"Novice\">Hai afferrato la maschera ma non l'hai posizionata nel punto giusto. Sulla bocca del paziente trovi un riferimento.</nodePhrase>\n",
      "      <nodePhrase clipId=\"ApplyBreathMaskUserInfoNoMaskGrabbed\" level=\"Novice\">Non hai ancora afferrato la maschera. Usa una mano per afferrarla e posizionala sulla bocca del paziente.</nodePhrase>\n",
      "      <details level=\"Novice\"/>\n",
      "   </language>\n",
      "   <language value=\"ENG\">\n",
      "      <description level=\"Expert\">Position the mask.</description>\n",
      "      <description level=\"Intermediate\">Position the mask.</description>\n",
      "      <description level=\"Novice\">On the floor you will find a mask, grab it and position it correctly on the patient's mouth.</description>\n",
      "      <nodePhrase clipId=\"ApplyBreathMaskUserInfoMaskNotPositioned\" level=\"Novice\">You grabbed the mask but you did not position it in the correct place. You can see a reference on the patient's mouth</nodePhrase>\n",
      "      <nodePhrase clipId=\"ApplyBreathMaskUserInfoNoMaskGrabbed\" level=\"Novice\">You did not yet grab the mask. User your hand and position it on the patient's mouth.</nodePhrase>\n",
      "      <details level=\"Novice\"/>\n",
      "   </language>\n",
      "</node>\n",
      "\n",
      "<?xml version=\"1.0\" ?>\n",
      "<node>\n",
      "   <language value=\"ITA\">\n",
      "      <description level=\"Expert\">Prendi un defibrillatore. Se non sei solo, chiedi a qualcuno di procurarti un defibrillatore. Non muoverti dalla scena. Unico passaggio con \"call emergency\"</description>\n",
      "      <description level=\"Intermediate\">Prendi un defibrillatore. Se non sei solo, chiedi a qualcuno di procurarti un defibrillatore. Non muoverti dalla scena. Unico passaggio con \"call emergency\"</description>\n",
      "      <description level=\"Novice\">Prendi un defibrillatore. Se non sei solo, chiedi a qualcuno di procurarti un defibrillatore. Non muoverti dalla scena.</description>\n",
      "      <nodePhrase clipId=\"AskDefibrillatorUserInfo1\" level=\"Novice\">Guarda intorno a te. C'è qualcuno nella stanza che può portarti il defibrillatore</nodePhrase>\n",
      "      <nodePhrase clipId=\"AskDefibrillatorUserInfo2\" level=\"Novice\">Non hai ancora chiesto un defibrillatore. Guarda meglio intorno a te. C'è qualcuno nella stanza che può aiutarti</nodePhrase>\n",
      "      <nodePhrase clipId=\"AskDefibrillatorUserInfo3\" level=\"Novice\">C'è una persona nella stanza {FRONTBACK=\"FRONT\":\"di fronte a te\";\"BACK\":\"dietro di te\"} e sulla tua {LEFTRIGHT=\"LEFT\":\"sinistra\";\"RIGHT\":\"destra\"}. Chiedigli di portare un defibrillatore</nodePhrase>\n",
      "      <details level=\"Novice\"/>\n",
      "   </language>\n",
      "   <language value=\"ENG\">\n",
      "      <description level=\"Expert\">Get a defibrillator. If you're not alone, ask anyone to get you a defibrillator. Don't move from the scene.</description>\n",
      "      <description level=\"Intermediate\">Get a defibrillator. If you're not alone, ask anyone to get you a defibrillator. Don't move from the scene.</description>\n",
      "      <description level=\"Novice\">Get a defibrillator. If you're not alone, ask anyone to get you a defibrillator. Don't move from the scene.</description>\n",
      "      <nodePhrase clipId=\"AskDefibrillatorUserInfo1\" level=\"Novice\">Look all around you. There is somebody in the room that can bring the defibrillator for you</nodePhrase>\n",
      "      <nodePhrase clipId=\"AskDefibrillatorUserInfo2\" level=\"Novice\">You still did not ask for a defibrillator. Look better around you. There is somebody in the room that can help you</nodePhrase>\n",
      "      <nodePhrase clipId=\"AskDefibrillatorUserInfo3\" level=\"Novice\">There is a person in the room {FRONTBACK=\"FRONT\":\"in front of you\";\"BACK\":\"on your back\"} and on your {LEFTRIGHT=\"LEFT\":\"left\";\"RIGHT\":\"right\"}. Please ask her to bring a defibrillator</nodePhrase>\n",
      "      <details level=\"Novice\"/>\n",
      "   </language>\n",
      "</node>\n",
      "\n",
      "<?xml version=\"1.0\" ?>\n",
      "<node>\n",
      "   <language value=\"ITA\">\n",
      "      <description level=\"Expert\">Chiama il numero di emergenza. Componi il numero di emergenza e chiedi aiuto professionale.</description>\n",
      "      <description level=\"Intermediate\">Chiama il numero di emergenza. Componi il numero di emergenza e chiedi aiuto professionale.</description>\n",
      "      <description level=\"Novice\">Chiama il numero di emergenza. Componi il numero di emergenza e chiedi aiuto professionale.</description>\n",
      "      <nodePhrase clipId=\"CallEmergencyUserInfo\" level=\"Novice\">Non hai ancora chiamato il numero di emergenza. Premi il bottone presente sulla torretta di emergenza.</nodePhrase>\n",
      "      <details level=\"Novice\"/>\n",
      "   </language>\n",
      "   <language value=\"ENG\">\n",
      "      <description level=\"Expert\"/>\n",
      "      <description level=\"Intermediate\">Call emergency number. Dial emergency number and ask for professional help.</description>\n",
      "      <description level=\"Novice\">Call emergency number. Dial emergency number and ask for professional help.</description>\n",
      "      <nodePhrase clipId=\"CallEmergencyUserInfo\" level=\"Novice\">You did not call emergency. You must push the button on the tower</nodePhrase>\n",
      "      <details level=\"Novice\"/>\n",
      "   </language>\n",
      "</node>\n",
      "\n"
     ]
    }
   ],
   "source": [
    "# Percorso del file\n",
    "input_file=r\"D:\\Downloads\\TEST(2).procedure\"\n",
    "output_dir =r\"D:\\Downloads\\generatedXML\"\n",
    "\n",
    "def extract_XML_from_procedure(data):\n",
    "    zip_folder=zipAllActivitiesXmls(data)\n",
    "\n",
    "with open(input_file, 'r', encoding='utf-8') as file:\n",
    "    data = json.load(file)\n",
    "    extract_XML_from_procedure(data)"
   ]
  },
  {
   "cell_type": "code",
   "execution_count": 14,
   "metadata": {},
   "outputs": [
    {
     "name": "stdout",
     "output_type": "stream",
     "text": [
      "{'AskDefibrillator', '<?xml version=\"1.0\" ?>\\n<node>\\n   <language value=\"ITA\">\\n      <description level=\"Expert\">Prendi un defibrillatore. Se non sei solo, chiedi a qualcuno di procurarti un defibrillatore. Non muoverti dalla scena. Unico passaggio con \"call emergency\"</description>\\n      <description level=\"Intermediate\">Prendi un defibrillatore. Se non sei solo, chiedi a qualcuno di procurarti un defibrillatore. Non muoverti dalla scena. Unico passaggio con \"call emergency\"</description>\\n      <description level=\"Novice\">Prendi un defibrillatore. Se non sei solo, chiedi a qualcuno di procurarti un defibrillatore. Non muoverti dalla scena.</description>\\n      <nodePhrase clipId=\"AskDefibrillatorUserInfo1\" level=\"Novice\">Guarda intorno a te. C\\'è qualcuno nella stanza che può portarti il defibrillatore</nodePhrase>\\n      <nodePhrase clipId=\"AskDefibrillatorUserInfo2\" level=\"Novice\">Non hai ancora chiesto un defibrillatore. Guarda meglio intorno a te. C\\'è qualcuno nella stanza che può aiutarti</nodePhrase>\\n      <nodePhrase clipId=\"AskDefibrillatorUserInfo3\" level=\"Novice\">C\\'è una persona nella stanza {FRONTBACK=\"FRONT\":\"di fronte a te\";\"BACK\":\"dietro di te\"} e sulla tua {LEFTRIGHT=\"LEFT\":\"sinistra\";\"RIGHT\":\"destra\"}. Chiedigli di portare un defibrillatore</nodePhrase>\\n   </language>\\n</node>\\n'}\n"
     ]
    }
   ],
   "source": [
    "# for activity in activities:\n",
    "#     xml_content = create_activity_xml(activity.node_phrases)\n",
    "#     print(xml_content)\n",
    "activity=activities[0]\n",
    "xml_content = {activity.name,create_activity_xml(activity.node_phrases)}\n",
    "print(xml_content)\n",
    "# writeXMLFile(output_dir,xml_content,activity.name)"
   ]
  },
  {
   "cell_type": "code",
   "execution_count": 16,
   "metadata": {},
   "outputs": [
    {
     "data": {
      "text/plain": [
       "0"
      ]
     },
     "execution_count": 16,
     "metadata": {},
     "output_type": "execute_result"
    }
   ],
   "source": [
    "xmls=[xml_content]\n",
    "# Preparare un archivio ZIP contenente tutti i file XML\n",
    "zip_buffer = BytesIO()\n",
    "with zipfile.ZipFile(zip_buffer, 'w') as zip_file:\n",
    "    for filename, xml_file in xmls:\n",
    "        zip_file.writestr(filename, xml_file)\n",
    "zip_buffer.seek(0)"
   ]
  }
 ],
 "metadata": {
  "kernelspec": {
   "display_name": "tf",
   "language": "python",
   "name": "python3"
  },
  "language_info": {
   "codemirror_mode": {
    "name": "ipython",
    "version": 3
   },
   "file_extension": ".py",
   "mimetype": "text/x-python",
   "name": "python",
   "nbconvert_exporter": "python",
   "pygments_lexer": "ipython3",
   "version": "3.10.9"
  }
 },
 "nbformat": 4,
 "nbformat_minor": 2
}
